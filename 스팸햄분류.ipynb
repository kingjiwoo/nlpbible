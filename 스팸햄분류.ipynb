{
  "nbformat": 4,
  "nbformat_minor": 0,
  "metadata": {
    "colab": {
      "provenance": [],
      "gpuType": "T4",
      "authorship_tag": "ABX9TyMVrzQ/6YhLaKzs7ybaX/+7",
      "include_colab_link": true
    },
    "kernelspec": {
      "name": "python3",
      "display_name": "Python 3"
    },
    "language_info": {
      "name": "python"
    },
    "accelerator": "GPU"
  },
  "cells": [
    {
      "cell_type": "markdown",
      "metadata": {
        "id": "view-in-github",
        "colab_type": "text"
      },
      "source": [
        "<a href=\"https://colab.research.google.com/github/kingjiwoo/nlpbible/blob/main/%EC%8A%A4%ED%8C%B8%ED%96%84%EB%B6%84%EB%A5%98.ipynb\" target=\"_parent\"><img src=\"https://colab.research.google.com/assets/colab-badge.svg\" alt=\"Open In Colab\"/></a>"
      ]
    },
    {
      "cell_type": "code",
      "execution_count": 10,
      "metadata": {
        "colab": {
          "base_uri": "https://localhost:8080/"
        },
        "id": "LgSYP66oLttX",
        "outputId": "5ded3d84-8274-4a51-b2ac-484fc1c002c0"
      },
      "outputs": [
        {
          "output_type": "stream",
          "name": "stderr",
          "text": [
            "[nltk_data] Downloading package punkt to /root/nltk_data...\n",
            "[nltk_data]   Package punkt is already up-to-date!\n",
            "[nltk_data] Downloading package stopwords to /root/nltk_data...\n",
            "[nltk_data]   Package stopwords is already up-to-date!\n",
            "[nltk_data] Downloading package wordnet to /root/nltk_data...\n"
          ]
        }
      ],
      "source": [
        "# 기본 패키지 및 라이브러리\n",
        "import nltk\n",
        "from nltk.corpus import stopwords\n",
        "from nltk.stem import WordNetLemmatizer\n",
        "nltk.download('punkt')\n",
        "nltk.download('stopwords')\n",
        "nltk.download('wordnet')\n",
        "\n",
        "import csv\n",
        "import numpy as np\n",
        "\n",
        "# 전처리 및 모델 관련 패키지 및 라이브러리\n",
        "from sklearn.feature_extraction.text import TfidfVectorizer\n",
        "from sklearn.naive_bayes import MultinomialNB\n",
        "from sklearn.tree import DecisionTreeClassifier\n",
        "from sklearn.linear_model import SGDClassifier\n",
        "from sklearn.svm import LinearSVC\n",
        "from sklearn.ensemble import RandomForestClassifier\n",
        "\n",
        "# 성능 검증 관련 패키지 및 라이브러리\n",
        "from sklearn.metrics import confusion_matrix, classification_report\n"
      ]
    },
    {
      "cell_type": "markdown",
      "source": [
        "1. 데이터 불러오기"
      ],
      "metadata": {
        "id": "7hidCIGUStQc"
      }
    },
    {
      "cell_type": "code",
      "source": [
        "smsdata = open('/content/SMSSpamCollection.txt', encoding='utf8')"
      ],
      "metadata": {
        "id": "WNGGZkqEitOU"
      },
      "execution_count": 2,
      "outputs": []
    },
    {
      "cell_type": "markdown",
      "source": [
        "2. 데이터 전처리"
      ],
      "metadata": {
        "id": "-M2I8WlmSvV5"
      }
    },
    {
      "cell_type": "code",
      "source": [
        "# 전처리 함수\n",
        "def preprocessing(text):\n",
        "    #tokenize into words\n",
        "    tokens = [word for sent in nltk.sent_tokenize(text) for word in nltk.word_tokenize(sent)] # 텍스트 => 문장 => 단어\n",
        "\n",
        "    # 불용어 제거\n",
        "    stop = stopwords.words('english')\n",
        "    tokens = [token for token in tokens if token not in stop] # 불용어에 없으면 토큰으로 포함\n",
        "\n",
        "    # 3개의 문자보다 작으면 제거\n",
        "    tokens = [word for word in tokens if len(word) >= 3]\n",
        "\n",
        "    # 소문자 만들기\n",
        "    tokens = [word.lower() for word in tokens]\n",
        "\n",
        "    #lemmatize\n",
        "    lmtzr = WordNetLemmatizer()\n",
        "    tokens = [lmtzr.lemmatize(word) for word in tokens]\n",
        "\n",
        "    preprocessed_text = ' '.join(tokens)\n",
        "\n",
        "    return preprocessed_text\n",
        ""
      ],
      "metadata": {
        "id": "63q2svLli8Jg"
      },
      "execution_count": 3,
      "outputs": []
    },
    {
      "cell_type": "code",
      "source": [
        "sms_data = []\n",
        "sms_labels = []\n",
        "cnt = 0\n",
        "sencsv_reader = csv.reader(smsdata, delimiter='\\t')\n",
        "for line in sencsv_reader:\n",
        "    # adding the sms_id\n",
        "    sms_labels.append(line[0])\n",
        "    sms_data.append(preprocessing(line[1]))\n",
        "\n",
        "smsdata.close()"
      ],
      "metadata": {
        "id": "dM9HYUMuk92c"
      },
      "execution_count": 11,
      "outputs": []
    },
    {
      "cell_type": "code",
      "source": [
        "# train test split\n",
        "\n",
        "trainset_size = int(round(len(sms_data)*0.70))\n",
        "print('The training set size for this classifier is ' + str(trainset_size)+'\\n')"
      ],
      "metadata": {
        "colab": {
          "base_uri": "https://localhost:8080/"
        },
        "id": "LrJRgenfl1HL",
        "outputId": "10236dca-d693-4c20-e253-c1d19cc41801"
      },
      "execution_count": 12,
      "outputs": [
        {
          "output_type": "stream",
          "name": "stdout",
          "text": [
            "The training set size for this classifier is 3898\n",
            "\n"
          ]
        }
      ]
    },
    {
      "cell_type": "code",
      "source": [
        "x_train = np.array([''.join(el) for el in sms_data[0:trainset_size]])\n",
        "y_train = np.array([el for el in sms_labels[0:trainset_size]])\n",
        "x_test = np.array([''.join(el) for el in sms_data[trainset_size+1:len(sms_data)]])\n",
        "y_test = np.array(([el for el in sms_labels[trainset_size+1:len(sms_labels)]]) or el in sms_labels[trainset_size+1:len(sms_labels)])"
      ],
      "metadata": {
        "id": "pnBV_33ImNTf"
      },
      "execution_count": 13,
      "outputs": []
    },
    {
      "cell_type": "markdown",
      "source": [
        "3. 토큰화"
      ],
      "metadata": {
        "id": "yt4BdNdrSyhV"
      }
    },
    {
      "cell_type": "code",
      "source": [
        "vectorizer2 = TfidfVectorizer(min_df=2, ngram_range=(1,2),\n",
        "                              stop_words='english', strip_accents='unicode', norm='l2')\n",
        "X_train = vectorizer2.fit_transform(x_train)\n",
        "X_test = vectorizer2.transform(x_test)"
      ],
      "metadata": {
        "id": "wPzs85J_mcre"
      },
      "execution_count": 14,
      "outputs": []
    },
    {
      "cell_type": "markdown",
      "source": [
        "4. 모델 학습"
      ],
      "metadata": {
        "id": "tsgg9eO9S1Mj"
      }
    },
    {
      "cell_type": "code",
      "source": [
        "# Naive Bayes\n",
        "clf_NB = MultinomialNB().fit(X_train, y_train)\n",
        "y_predicted_NB = clf_NB.predict(X_test)\n",
        "\n",
        "# Decision tree\n",
        "clf_DT = DecisionTreeClassifier().fit(X_train.toarray(), y_train)\n",
        "y_predicted_DT = clf_DT.predict(X_test.toarray())\n",
        "\n",
        "# Stochastic gradient descent\n",
        "#clf_SGD = SGDClassifier(alpha=.0001, n_iter=50).fit(X_train, y_train)\n",
        "clf_SGD = SGDClassifier(alpha=.0001).fit(X_train, y_train)\n",
        "y_predicted_SGD = clf_SGD.predict(X_test)\n",
        "\n",
        "# Support Vector Machines\n",
        "clf_SVM = LinearSVC().fit(X_train, y_train)\n",
        "y_predicted_SVM = clf_SVM.predict(X_test)\n",
        "\n",
        "# The Random forest algorithm\n",
        "clf_RFA = RandomForestClassifier(n_estimators=10)\n",
        "clf_RFA.fit(X_train, y_train)\n",
        "y_predicted_RFA = clf_RFA.predict(X_test)"
      ],
      "metadata": {
        "id": "Ol5KrNxen9b3"
      },
      "execution_count": 16,
      "outputs": []
    },
    {
      "cell_type": "markdown",
      "source": [
        "5. 평가"
      ],
      "metadata": {
        "id": "McwmhcauS3Ia"
      }
    },
    {
      "cell_type": "code",
      "source": [
        "print (' \\n confusion_matrix NB \\n ')\n",
        "cm = confusion_matrix(y_test, y_predicted_NB)\n",
        "print (cm)\n",
        "print ('\\n Here is the classification report:')\n",
        "print (classification_report(y_test, y_predicted_NB))\n",
        "\n",
        "\n",
        "print (' \\n confusion_matrix DT \\n ')\n",
        "cm = confusion_matrix(y_test, y_predicted_DT)\n",
        "print (cm)\n",
        "print ('\\n Here is the classification report:')\n",
        "print (classification_report(y_test, y_predicted_DT))\n",
        "\n",
        "print (' \\n confusion_matrix SGD \\n ')\n",
        "cm = confusion_matrix(y_test, y_predicted_SGD)\n",
        "print (cm)\n",
        "print ('\\n Here is the classification report:')\n",
        "print (classification_report(y_test, y_predicted_SGD))\n",
        "\n",
        "print (' \\n confusion_matrix SVM\\n ')\n",
        "cm = confusion_matrix(y_test, y_predicted_SVM)\n",
        "print (cm)\n",
        "print ('\\n Here is the classification report:')\n",
        "print (classification_report(y_test, y_predicted_SVM))\n",
        "\n",
        "print (' \\n confusion_matrix RFA \\n ')\n",
        "cm = confusion_matrix(y_test, y_predicted_RFA)\n",
        "print (cm)\n",
        "print ('\\n Here is the classification report:')\n",
        "print (classification_report(y_test, y_predicted_RFA))"
      ],
      "metadata": {
        "colab": {
          "base_uri": "https://localhost:8080/"
        },
        "id": "Jvo0KbPlMrLP",
        "outputId": "0833c692-c1b8-4c1f-b55e-d53e5d119f22"
      },
      "execution_count": 17,
      "outputs": [
        {
          "output_type": "stream",
          "name": "stdout",
          "text": [
            " \n",
            " confusion_matrix NB \n",
            " \n",
            "[[1442    0]\n",
            " [  52  176]]\n",
            "\n",
            " Here is the classification report:\n",
            "              precision    recall  f1-score   support\n",
            "\n",
            "         ham       0.97      1.00      0.98      1442\n",
            "        spam       1.00      0.77      0.87       228\n",
            "\n",
            "    accuracy                           0.97      1670\n",
            "   macro avg       0.98      0.89      0.93      1670\n",
            "weighted avg       0.97      0.97      0.97      1670\n",
            "\n",
            " \n",
            " confusion_matrix DT \n",
            " \n",
            "[[1413   29]\n",
            " [  41  187]]\n",
            "\n",
            " Here is the classification report:\n",
            "              precision    recall  f1-score   support\n",
            "\n",
            "         ham       0.97      0.98      0.98      1442\n",
            "        spam       0.87      0.82      0.84       228\n",
            "\n",
            "    accuracy                           0.96      1670\n",
            "   macro avg       0.92      0.90      0.91      1670\n",
            "weighted avg       0.96      0.96      0.96      1670\n",
            "\n",
            " \n",
            " confusion_matrix SGD \n",
            " \n",
            "[[1435    7]\n",
            " [  21  207]]\n",
            "\n",
            " Here is the classification report:\n",
            "              precision    recall  f1-score   support\n",
            "\n",
            "         ham       0.99      1.00      0.99      1442\n",
            "        spam       0.97      0.91      0.94       228\n",
            "\n",
            "    accuracy                           0.98      1670\n",
            "   macro avg       0.98      0.95      0.96      1670\n",
            "weighted avg       0.98      0.98      0.98      1670\n",
            "\n",
            " \n",
            " confusion_matrix SVM\n",
            " \n",
            "[[1436    6]\n",
            " [  23  205]]\n",
            "\n",
            " Here is the classification report:\n",
            "              precision    recall  f1-score   support\n",
            "\n",
            "         ham       0.98      1.00      0.99      1442\n",
            "        spam       0.97      0.90      0.93       228\n",
            "\n",
            "    accuracy                           0.98      1670\n",
            "   macro avg       0.98      0.95      0.96      1670\n",
            "weighted avg       0.98      0.98      0.98      1670\n",
            "\n",
            " \n",
            " confusion_matrix RFA \n",
            " \n",
            "[[1441    1]\n",
            " [  54  174]]\n",
            "\n",
            " Here is the classification report:\n",
            "              precision    recall  f1-score   support\n",
            "\n",
            "         ham       0.96      1.00      0.98      1442\n",
            "        spam       0.99      0.76      0.86       228\n",
            "\n",
            "    accuracy                           0.97      1670\n",
            "   macro avg       0.98      0.88      0.92      1670\n",
            "weighted avg       0.97      0.97      0.97      1670\n",
            "\n"
          ]
        }
      ]
    },
    {
      "cell_type": "code",
      "source": [],
      "metadata": {
        "id": "ZRyx45I1oYGg"
      },
      "execution_count": null,
      "outputs": []
    }
  ]
}